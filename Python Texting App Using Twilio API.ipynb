{
 "cells": [
  {
   "cell_type": "markdown",
   "metadata": {},
   "source": [
    "## How to Create a Python Texting App Using Twilio API in 6 steps\n"
   ]
  },
  {
   "cell_type": "markdown",
   "metadata": {},
   "source": [
    "Have you ever wanted to learn about API's (Application Programming Interfaces) and also build cool projects with them using Python? Well... we will get to do just that. We will create a basic app from scratch. You'll see why Twilio is so special. No previous knowledge required... Let's get started."
   ]
  },
  {
   "cell_type": "markdown",
   "metadata": {},
   "source": [
    "#### 1. Create a Twilio Account:\n",
    "\n",
    "Go to Twilio's website: http://www.twilio.com\n",
    "Once there you will click on the +SIGN UP button found in the upper right hand corner\n",
    "\n",
    "\n",
    "Now that you have signed up for an account you will need to obtain a phone number to send messages from."
   ]
  },
  {
   "cell_type": "markdown",
   "metadata": {},
   "source": [
    "#### 2. Buy a text Capable Phone Number:\n",
    "\n",
    "Go to the Buy a Number page (Dashboard Console > Phone Numbers > Buy a Number)"
   ]
  },
  {
   "cell_type": "markdown",
   "metadata": {},
   "source": [
    "#### 3. Verify a Phone Number on Twilio https://www.twilio.com/console/phone-numbers/verified. That you would like to text."
   ]
  },
  {
   "cell_type": "markdown",
   "metadata": {},
   "source": [
    "#### 4. Get Twilio Credentials\n",
    " https://www.twilio.com/console\n",
    " \n",
    " Get Account SID\n",
    " \n",
    " Get Auth Token"
   ]
  },
  {
   "cell_type": "markdown",
   "metadata": {},
   "source": [
    "#### 5. Put your twilio credentials and twilio phone numbers in credentials.py"
   ]
  },
  {
   "cell_type": "markdown",
   "metadata": {},
   "source": [
    "#### 6. Open your terminal and pip install twilio."
   ]
  },
  {
   "cell_type": "code",
   "execution_count": null,
   "metadata": {},
   "outputs": [],
   "source": [
    " from twilio.rest import Client\n",
    "\n",
    "\n",
    " #Your Account SID from twilio.com/console\n",
    " account_sid = \"\" #your account SID from twilio console\n",
    "\n",
    " #Your Auth Token from twilio.com/console\n",
    " auth_token  = \"\" #your auth token from twilio console\n",
    "\n",
    " client = Client(account_sid, auth_token)\n",
    " message = client.messages.create(\n",
    " to=\"your number\",\n",
    " from_=\"your twilio number\",\n",
    " body=\"message body\")\n",
    "\n",
    " print(message.sid) #To print sid "
   ]
  },
  {
   "cell_type": "markdown",
   "metadata": {},
   "source": [
    "#### Congratulations!\n",
    " You just sent your first text through your Python Text App that uses the Twilio API."
   ]
  },
  {
   "cell_type": "code",
   "execution_count": null,
   "metadata": {},
   "outputs": [],
   "source": []
  }
 ],
 "metadata": {
  "kernelspec": {
   "display_name": "Python 3",
   "language": "python",
   "name": "python3"
  },
  "language_info": {
   "codemirror_mode": {
    "name": "ipython",
    "version": 3
   },
   "file_extension": ".py",
   "mimetype": "text/x-python",
   "name": "python",
   "nbconvert_exporter": "python",
   "pygments_lexer": "ipython3",
   "version": "3.6.7"
  }
 },
 "nbformat": 4,
 "nbformat_minor": 2
}
